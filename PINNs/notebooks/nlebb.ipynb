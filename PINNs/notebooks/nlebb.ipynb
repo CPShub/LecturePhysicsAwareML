{
 "cells": [
  {
   "cell_type": "markdown",
   "metadata": {},
   "source": [
    "# PINN Introduction"
   ]
  },
  {
   "cell_type": "code",
   "execution_count": null,
   "metadata": {},
   "outputs": [],
   "source": [
    "# Run this cell is you are using Google Colab\n",
    "!git clone https://github.com/CPSHub/LecturePhysicsAwareML.git\n",
    "%cd LecturePhysicsAwareML/PINNs\n",
    "%pip install -e ."
   ]
  },
  {
   "cell_type": "code",
   "execution_count": null,
   "metadata": {},
   "outputs": [],
   "source": [
    "# Run this cell, if you are working locally\n",
    "%cd ..\n",
    "%pip install -e ."
   ]
  },
  {
   "cell_type": "markdown",
   "metadata": {},
   "source": [
    "### Define boundary conditions."
   ]
  },
  {
   "cell_type": "code",
   "execution_count": null,
   "metadata": {},
   "outputs": [],
   "source": [
    "import jax.numpy as jnp\n",
    "from paml_pinns.nlebb import Config, get_data_decorator\n",
    "\n",
    "\n",
    "@get_data_decorator\n",
    "def get_data(config: Config):\n",
    "    if config.bc_case == 0:\n",
    "        u_bc_coords = jnp.array([0.])\n",
    "        u_bc_values = jnp.array([0.])\n",
    "        w_bc_coords = jnp.array([0.])\n",
    "        w_bc_values = jnp.array([0.])\n",
    "        w_x_bc_coords = jnp.array([0.])\n",
    "        w_x_bc_values = jnp.array([0.])\n",
    "        N_bc_coords = jnp.array([config.L])\n",
    "        N_bc_values = jnp.array([0.])\n",
    "        M_bc_coords = jnp.array([config.L])\n",
    "        M_bc_values = jnp.array([0.])\n",
    "        Q_bc_coords = jnp.array([config.L])\n",
    "        Q_bc_values = jnp.array([config.F])\n",
    "    elif config.bc_case == 1:\n",
    "        # Start of task scope\n",
    "        ######################\n",
    "        pass # remove this for testing\n",
    "        # u_bc_coords = \n",
    "        # u_bc_values = \n",
    "        # w_bc_coords = \n",
    "        # w_bc_values = \n",
    "        # w_x_bc_coords = \n",
    "        # w_x_bc_values = \n",
    "        # N_bc_coords = \n",
    "        # N_bc_values = \n",
    "        # M_bc_coords = \n",
    "        # M_bc_values = \n",
    "        # Q_bc_coords = \n",
    "        # Q_bc_values = \n",
    "        ######################\n",
    "        # End of task scope\n",
    "    else:\n",
    "        NotImplementedError(\"Data generation is not implemented for these boundary conditions.\")\n",
    "\n",
    "    bc = {\n",
    "        \"u_bc_coords\": u_bc_coords,\n",
    "        \"u_bc_values\": u_bc_values,\n",
    "        \"w_bc_coords\": w_bc_coords,\n",
    "        \"w_bc_values\": w_bc_values,\n",
    "        \"w_x_bc_coords\": w_x_bc_coords,\n",
    "        \"w_x_bc_values\": w_x_bc_values,\n",
    "        \"N_bc_coords\": N_bc_coords,\n",
    "        \"N_bc_values\": N_bc_values,\n",
    "        \"M_bc_coords\": M_bc_coords,\n",
    "        \"M_bc_values\": M_bc_values,\n",
    "        \"Q_bc_coords\": Q_bc_coords,\n",
    "        \"Q_bc_values\": Q_bc_values\n",
    "    }\n",
    "    return bc\n"
   ]
  },
  {
   "cell_type": "markdown",
   "metadata": {},
   "source": [
    "### Configure beam properties."
   ]
  },
  {
   "cell_type": "code",
   "execution_count": null,
   "metadata": {},
   "outputs": [],
   "source": [
    "from paml_pinns.nlebb import get_config_decorator\n",
    "from typing import Tuple\n",
    "\n",
    "\n",
    "@get_config_decorator\n",
    "def get_config(bc_case: int) -> Tuple[float, float, float, float, float, float]:\n",
    "    if bc_case == 0:\n",
    "        EI = 1.0\n",
    "        EA = 1.0\n",
    "        L = 1.0\n",
    "        F = 1.0\n",
    "        f = 0.0\n",
    "        q = 0.0\n",
    "    else:\n",
    "        NotImplementedError(\"No configuration implemented for these boundary conditions.\")\n",
    "\n",
    "    return EI, EA, L, F, f, q"
   ]
  },
  {
   "cell_type": "markdown",
   "metadata": {},
   "source": [
    "### Data generation, model creation & training"
   ]
  },
  {
   "cell_type": "code",
   "execution_count": null,
   "metadata": {},
   "outputs": [],
   "source": [
    "import jax\n",
    "from paml_pinns.nlebb import PINN\n",
    "from paml_pinns import train\n",
    "\n",
    "\n",
    "config = get_config(bc_case=0, non_dim=False)\n",
    "x, y, bc, EI, EA, L, f, q = get_data(config)\n",
    "weights = {\n",
    "    \"u_bc\": 1.0,\n",
    "    \"w_bc\": 1.0,\n",
    "    \"w_x_bc\": 1.0,\n",
    "    \"N_bc\": 1.0,\n",
    "    \"M_bc\": 1.0,\n",
    "    \"Q_bc\": 1.0,\n",
    "    \"ru\": 1.0,\n",
    "    \"rw\": 1.0\n",
    "}\n",
    "\n",
    "key = jax.random.PRNGKey(1234)\n",
    "model = PINN(EI, EA, L, f, q, bc, key=key)\n",
    "\n",
    "model = train(\n",
    "    model,\n",
    "    x,\n",
    "    weights,\n",
    "    steps=80_000\n",
    ")"
   ]
  },
  {
   "cell_type": "markdown",
   "metadata": {},
   "source": [
    "### Model evaluation"
   ]
  },
  {
   "cell_type": "code",
   "execution_count": null,
   "metadata": {},
   "outputs": [],
   "source": [
    "from paml_pinns.nlebb import evaluate\n",
    "\n",
    "\n",
    "evaluate(model, x, y)"
   ]
  },
  {
   "cell_type": "markdown",
   "metadata": {},
   "source": [
    "### Tasks\n",
    "\n",
    "#### Task 1: Dedimensionalization\n",
    "\n",
    "For `bc_case=0`, ...\n",
    "\n",
    "a) Set `EI=1e6`, and non_dim=False`. Can the model approximate the solution?\n",
    "\n",
    "b) Now set the `EI = 1.0`. Can the model approximate the solution now?\n",
    "\n",
    "c) Set `EI=1e6` again and set `non_dim=True`. The model should now be able approximate the solution very well. Why does it work better than a)?  \n",
    "\n",
    "#### Task 2: Boundary conditions\n",
    "\n",
    "Fix the boundary conditions for `bc_case=1` withing `get_data()`. Next, calibrate the PINN and test your implementation against the analytical solution. Note, boundary conditions can be set equal to `None`to be ignored.\n",
    "\n",
    "*Solution:*"
   ]
  }
 ],
 "metadata": {
  "kernelspec": {
   "display_name": ".venv",
   "language": "python",
   "name": "python3"
  },
  "language_info": {
   "codemirror_mode": {
    "name": "ipython",
    "version": 3
   },
   "file_extension": ".py",
   "mimetype": "text/x-python",
   "name": "python",
   "nbconvert_exporter": "python",
   "pygments_lexer": "ipython3",
   "version": "3.13.1"
  }
 },
 "nbformat": 4,
 "nbformat_minor": 2
}
