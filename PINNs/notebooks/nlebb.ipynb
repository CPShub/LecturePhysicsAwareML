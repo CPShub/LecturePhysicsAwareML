{
 "cells": [
  {
   "cell_type": "markdown",
   "metadata": {},
   "source": [
    "PINN Introduction\n",
    "================="
   ]
  },
  {
   "cell_type": "code",
   "execution_count": null,
   "metadata": {},
   "outputs": [],
   "source": [
    "# Run this cell is you are using Google Colab\n",
    "!git clone https://github.com/CPSHub/LecturePhysicsAwareML.git\n",
    "%cd LecturePhysicsAwareML/PINNs\n",
    "%pip install -e ."
   ]
  },
  {
   "cell_type": "code",
   "execution_count": null,
   "metadata": {},
   "outputs": [],
   "source": [
    "# Run this cell, if you are working locally\n",
    "%cd ..\n",
    "%pip install -e ."
   ]
  },
  {
   "cell_type": "markdown",
   "metadata": {},
   "source": [
    "### Define boundary conditions."
   ]
  },
  {
   "cell_type": "code",
   "execution_count": 1,
   "metadata": {},
   "outputs": [],
   "source": [
    "import jax.numpy as jnp\n",
    "from paml_pinns.nlebb import Config, get_data_decorator\n",
    "\n",
    "\n",
    "@get_data_decorator\n",
    "def get_data(config: Config):\n",
    "    if config.bc_case == 0:\n",
    "        u_bc_coords = jnp.array([0.0])\n",
    "        u_bc_values = jnp.array([0.0])\n",
    "        w_bc_coords = jnp.array([0.0])\n",
    "        w_bc_values = jnp.array([0.0])\n",
    "        w_x_bc_coords = jnp.array([0.0])\n",
    "        w_x_bc_values = jnp.array([0.0])\n",
    "        N_bc_coords = jnp.array([config.L])\n",
    "        N_bc_values = jnp.array([0.0])\n",
    "        M_bc_coords = jnp.array([config.L])\n",
    "        M_bc_values = jnp.array([0.0])\n",
    "        Q_bc_coords = jnp.array([config.L])\n",
    "        Q_bc_values = jnp.array([config.F])\n",
    "    else:\n",
    "        NotImplementedError(\n",
    "            \"Data generation is not implemented for these boundary conditions.\"\n",
    "        )\n",
    "\n",
    "    bc = {\n",
    "        \"u_bc_coords\": u_bc_coords,\n",
    "        \"u_bc_values\": u_bc_values,\n",
    "        \"w_bc_coords\": w_bc_coords,\n",
    "        \"w_bc_values\": w_bc_values,\n",
    "        \"w_x_bc_coords\": w_x_bc_coords,\n",
    "        \"w_x_bc_values\": w_x_bc_values,\n",
    "        \"N_bc_coords\": N_bc_coords,\n",
    "        \"N_bc_values\": N_bc_values,\n",
    "        \"M_bc_coords\": M_bc_coords,\n",
    "        \"M_bc_values\": M_bc_values,\n",
    "        \"Q_bc_coords\": Q_bc_coords,\n",
    "        \"Q_bc_values\": Q_bc_values,\n",
    "    }\n",
    "    return bc\n"
   ]
  },
  {
   "cell_type": "markdown",
   "metadata": {},
   "source": [
    "### Configure beam properties."
   ]
  },
  {
   "cell_type": "code",
   "execution_count": 2,
   "metadata": {},
   "outputs": [],
   "source": [
    "from paml_pinns.nlebb import get_config_decorator\n",
    "from typing import Tuple\n",
    "\n",
    "\n",
    "@get_config_decorator\n",
    "def get_config(bc_case: int) -> Tuple[float, float, float, float, float, float]:\n",
    "    if bc_case == 0:\n",
    "        E = 1.0\n",
    "        A = 1.0\n",
    "        II = 1.0\n",
    "        L = 1.0\n",
    "        F = 1.0\n",
    "        f = 0.0\n",
    "        q = 0.0\n",
    "    else:\n",
    "        NotImplementedError(\n",
    "            \"No configuration implemented for these boundary conditions.\"\n",
    "        )\n",
    "\n",
    "    return E, A, II, L, F, f, q"
   ]
  },
  {
   "cell_type": "markdown",
   "metadata": {},
   "source": [
    "### Data generation and model creation"
   ]
  },
  {
   "cell_type": "code",
   "execution_count": null,
   "metadata": {},
   "outputs": [],
   "source": [
    "import jax\n",
    "from paml_pinns.nlebb import create_pinn\n",
    "\n",
    "\n",
    "config = get_config(bc_case=0)\n",
    "x, y, bc, params = get_data(config)\n",
    "\n",
    "key = jax.random.PRNGKey(1234)\n",
    "model = create_pinn(params, bc, key=key, mixed_formulation=False)\n",
    "weights = {\"u\": 1.0, \"w\": 1.0, \"w_x\": 1.0, \"N\": 1.0, \"M\": 1.0, \"Q\": 1.0}\n",
    "params"
   ]
  },
  {
   "cell_type": "markdown",
   "metadata": {},
   "source": [
    "### Calibration and Evaluation"
   ]
  },
  {
   "cell_type": "code",
   "execution_count": null,
   "metadata": {},
   "outputs": [],
   "source": [
    "from paml_pinns import train\n",
    "from paml_pinns.nlebb import evaluate\n",
    "\n",
    "model = train(model, x, weights, steps=50_000, batch_size=128)\n",
    "evaluate(model, x, y)"
   ]
  },
  {
   "cell_type": "markdown",
   "metadata": {},
   "source": [
    "Tasks\n",
    "=====\n",
    "\n",
    "#### Task 1: Mixed formulation\n",
    "\n",
    "For `bc_case=0`, ...\n",
    "\n",
    "a) Set `mixed_formulation=False`. Can the model approximate the solution?\n",
    "\n",
    "b) Now set `mixed_formulation=True`, while keeping all other parameters the same. Can the model approximate the solution now? How can the observed differences be explained?\n",
    "\n",
    "c) Next select your preferred architecture and increase the value of `E`. What do you observe? How could the effects be mitigated?\n",
    "\n",
    "#### Task 2: Discussion\n",
    "\n",
    "Based on your experience from the the PINN task, collect some advantages and disadvantages of PINNs over traditional numerical methods like FEM. When would you prefer to use PINNs, when would you obt for FEM? Discuss your thoughts with a partner.\n",
    "\n",
    "#### Task 3 (Optional): Implementation of different boundary conditions\n",
    "\n",
    "Calibrate the PINN to different boundary conditions by modifying the `get_data`\n",
    "function and the `paml_pinn.nlebb.cases` module. Can you find an analytical soulution to validate your implementation?"
   ]
  }
 ],
 "metadata": {
  "kernelspec": {
   "display_name": ".venv",
   "language": "python",
   "name": "python3"
  },
  "language_info": {
   "codemirror_mode": {
    "name": "ipython",
    "version": 3
   },
   "file_extension": ".py",
   "mimetype": "text/x-python",
   "name": "python",
   "nbconvert_exporter": "python",
   "pygments_lexer": "ipython3",
   "version": "3.12.9"
  }
 },
 "nbformat": 4,
 "nbformat_minor": 2
}
